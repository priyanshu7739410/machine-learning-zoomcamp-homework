{
 "cells": [
  {
   "cell_type": "code",
   "execution_count": 147,
   "id": "20690378-33c0-4860-b0e8-354a8c65a8cb",
   "metadata": {},
   "outputs": [],
   "source": [
    "import numpy as np\n",
    "import numpy.char as char"
   ]
  },
  {
   "cell_type": "code",
   "execution_count": 148,
   "id": "4398da1d-c952-4a9b-9683-56bc8bda22a8",
   "metadata": {},
   "outputs": [],
   "source": [
    "u=np.random.randint(low=0,high=15,size=(1,5))"
   ]
  },
  {
   "cell_type": "code",
   "execution_count": 149,
   "id": "dc75e9b0-120f-449a-b825-20c41bba4e71",
   "metadata": {},
   "outputs": [],
   "source": [
    "v=np.random.randint(low=0,high=15,size=(5,1))"
   ]
  },
  {
   "cell_type": "code",
   "execution_count": 150,
   "id": "714a76e0-7fea-49a9-921e-0f4b8da765fd",
   "metadata": {},
   "outputs": [
    {
     "name": "stdout",
     "output_type": "stream",
     "text": [
      "[[10  1  7  8  7]]\n"
     ]
    }
   ],
   "source": [
    "print(u)"
   ]
  },
  {
   "cell_type": "code",
   "execution_count": 151,
   "id": "130e8dd2-cc3d-422c-8776-32787638b58e",
   "metadata": {},
   "outputs": [
    {
     "name": "stdout",
     "output_type": "stream",
     "text": [
      "[[13]\n",
      " [11]\n",
      " [ 5]\n",
      " [ 6]\n",
      " [ 2]]\n"
     ]
    }
   ],
   "source": [
    "print(v)"
   ]
  },
  {
   "cell_type": "code",
   "execution_count": 152,
   "id": "d2f7489f-198d-4298-9176-d4363f1bdb96",
   "metadata": {},
   "outputs": [],
   "source": [
    "def multiplication(u,v):\n",
    "    assert u.shape[1]==v.shape[0]\n",
    "    \n",
    "    result=0\n",
    "    \n",
    "    n=v.shape[0]\n",
    "\n",
    "    for i in range(n):\n",
    "        result=result + u[0,i]*v[i,0]\n",
    "    return result"
   ]
  },
  {
   "cell_type": "code",
   "execution_count": 153,
   "id": "41634ab0-3120-462a-8640-13b82f4458d0",
   "metadata": {},
   "outputs": [
    {
     "data": {
      "text/plain": [
       "np.int64(238)"
      ]
     },
     "execution_count": 153,
     "metadata": {},
     "output_type": "execute_result"
    }
   ],
   "source": [
    "multiplication(u,v)"
   ]
  },
  {
   "cell_type": "code",
   "execution_count": 154,
   "id": "b8685ef9-855d-44d3-b350-025e88d03a83",
   "metadata": {},
   "outputs": [
    {
     "name": "stdout",
     "output_type": "stream",
     "text": [
      "[[12  3 10]\n",
      " [ 5 11 11]\n",
      " [ 4  5  4]]\n",
      "[[13 13  5]\n",
      " [13  1  9]\n",
      " [ 6 10  2]]\n",
      "[[255. 259. 107.]\n",
      " [274. 186. 146.]\n",
      " [141.  97.  73.]]\n"
     ]
    }
   ],
   "source": [
    "def matrix_multiplication(w,x):\n",
    "    assert w.shape[1]==x.shape[0]\n",
    "    n=np.zeros((w.shape[0],x.shape[1]))\n",
    "    for i in range(w.shape[0]):\n",
    "        for j in range(x.shape[1]):\n",
    "            result=0\n",
    "            for s in range(w.shape[1]):\n",
    "                result=result + w[i,s]*x[s,j]\n",
    "            n[i,j]=result\n",
    "    return n\n",
    "\n",
    "p=np.random.randint(low=0,high=15,size=(3,3))\n",
    "print(p)\n",
    "q=np.random.randint(low=0,high=15,size=(3,3))\n",
    "print(q)\n",
    "\n",
    "print(matrix_multiplication(p,q))"
   ]
  }
 ],
 "metadata": {
  "kernelspec": {
   "display_name": "Python 3 (ipykernel)",
   "language": "python",
   "name": "python3"
  },
  "language_info": {
   "codemirror_mode": {
    "name": "ipython",
    "version": 3
   },
   "file_extension": ".py",
   "mimetype": "text/x-python",
   "name": "python",
   "nbconvert_exporter": "python",
   "pygments_lexer": "ipython3",
   "version": "3.12.1"
  }
 },
 "nbformat": 4,
 "nbformat_minor": 5
}
