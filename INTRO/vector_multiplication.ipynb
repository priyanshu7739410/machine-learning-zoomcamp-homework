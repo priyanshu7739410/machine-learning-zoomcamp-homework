{
 "cells": [
  {
   "cell_type": "code",
   "execution_count": 1,
   "id": "20690378-33c0-4860-b0e8-354a8c65a8cb",
   "metadata": {},
   "outputs": [],
   "source": [
    "import numpy as np"
   ]
  },
  {
   "cell_type": "code",
   "execution_count": 11,
   "id": "4398da1d-c952-4a9b-9683-56bc8bda22a8",
   "metadata": {},
   "outputs": [],
   "source": [
    "u=np.random.randint(low=0,high=15,size=(1,5))"
   ]
  },
  {
   "cell_type": "code",
   "execution_count": 7,
   "id": "dc75e9b0-120f-449a-b825-20c41bba4e71",
   "metadata": {},
   "outputs": [],
   "source": [
    "v=np.random.randint(low=0,high=15,size=(5,1))"
   ]
  },
  {
   "cell_type": "code",
   "execution_count": 12,
   "id": "714a76e0-7fea-49a9-921e-0f4b8da765fd",
   "metadata": {},
   "outputs": [
    {
     "name": "stdout",
     "output_type": "stream",
     "text": [
      "[[ 1  9 11  9  0]]\n"
     ]
    }
   ],
   "source": [
    "print(u)"
   ]
  },
  {
   "cell_type": "code",
   "execution_count": 16,
   "id": "130e8dd2-cc3d-422c-8776-32787638b58e",
   "metadata": {},
   "outputs": [
    {
     "name": "stdout",
     "output_type": "stream",
     "text": [
      "[[12]\n",
      " [12]\n",
      " [14]\n",
      " [ 5]\n",
      " [12]]\n"
     ]
    }
   ],
   "source": [
    "print(v)"
   ]
  },
  {
   "cell_type": "code",
   "execution_count": 30,
   "id": "d2f7489f-198d-4298-9176-d4363f1bdb96",
   "metadata": {},
   "outputs": [],
   "source": [
    "def multiplication(u,v):\n",
    "    assert u.shape[1]==v.shape[0]\n",
    "    \n",
    "    result=0\n",
    "    \n",
    "    n=v.shape[0]\n",
    "\n",
    "    for i in range(n):\n",
    "        result=result + u[0,i]*v[i,0]\n",
    "    return result"
   ]
  },
  {
   "cell_type": "code",
   "execution_count": 31,
   "id": "41634ab0-3120-462a-8640-13b82f4458d0",
   "metadata": {},
   "outputs": [
    {
     "data": {
      "text/plain": [
       "np.int64(319)"
      ]
     },
     "execution_count": 31,
     "metadata": {},
     "output_type": "execute_result"
    }
   ],
   "source": [
    "multiplication(u,v)"
   ]
  },
  {
   "cell_type": "code",
   "execution_count": 33,
   "id": "cf5875ff-f663-4c8a-80fa-b71a3ca42822",
   "metadata": {},
   "outputs": [],
   "source": [
    "w=np.random.randint(low=0,high=15,size=(3,3))"
   ]
  },
  {
   "cell_type": "code",
   "execution_count": 34,
   "id": "3c8dfe7b-9e2c-4f47-9d87-47df9d427451",
   "metadata": {},
   "outputs": [],
   "source": [
    "x=np.random.randint(low=0,high=15,size=(3,3))"
   ]
  },
  {
   "cell_type": "code",
   "execution_count": null,
   "id": "b8685ef9-855d-44d3-b350-025e88d03a83",
   "metadata": {},
   "outputs": [],
   "source": [
    "def matrix_multiplication(w,x):\n",
    "    assert w.shape[1]=x.shape[0]\n",
    "\n",
    "    "
   ]
  }
 ],
 "metadata": {
  "kernelspec": {
   "display_name": "Python 3 (ipykernel)",
   "language": "python",
   "name": "python3"
  },
  "language_info": {
   "codemirror_mode": {
    "name": "ipython",
    "version": 3
   },
   "file_extension": ".py",
   "mimetype": "text/x-python",
   "name": "python",
   "nbconvert_exporter": "python",
   "pygments_lexer": "ipython3",
   "version": "3.12.1"
  }
 },
 "nbformat": 4,
 "nbformat_minor": 5
}
