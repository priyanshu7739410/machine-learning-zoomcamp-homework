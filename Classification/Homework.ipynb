{
 "cells": [
  {
   "cell_type": "code",
   "execution_count": 1,
   "id": "bd7785d0-5e25-4431-a9eb-c8132b8df63b",
   "metadata": {},
   "outputs": [],
   "source": [
    "import pandas as pd\n",
    "import numpy as np"
   ]
  },
  {
   "cell_type": "markdown",
   "id": "efec263e-6b4e-4263-be54-88e91f5383ad",
   "metadata": {},
   "source": [
    "!patool extract bank+marketing/bank.zip"
   ]
  },
  {
   "cell_type": "code",
   "execution_count": 2,
   "id": "230f21d6-456b-4d62-bdf3-9e93dbbc1ef7",
   "metadata": {},
   "outputs": [],
   "source": [
    "data = pd.read_csv('bank-full.csv', sep=';')"
   ]
  },
  {
   "cell_type": "code",
   "execution_count": 3,
   "id": "d1ab1674-7bfc-470c-acab-c025c26bb66a",
   "metadata": {},
   "outputs": [
    {
     "data": {
      "text/html": [
       "<div>\n",
       "<style scoped>\n",
       "    .dataframe tbody tr th:only-of-type {\n",
       "        vertical-align: middle;\n",
       "    }\n",
       "\n",
       "    .dataframe tbody tr th {\n",
       "        vertical-align: top;\n",
       "    }\n",
       "\n",
       "    .dataframe thead th {\n",
       "        text-align: right;\n",
       "    }\n",
       "</style>\n",
       "<table border=\"1\" class=\"dataframe\">\n",
       "  <thead>\n",
       "    <tr style=\"text-align: right;\">\n",
       "      <th></th>\n",
       "      <th>age</th>\n",
       "      <th>job</th>\n",
       "      <th>marital</th>\n",
       "      <th>education</th>\n",
       "      <th>default</th>\n",
       "      <th>balance</th>\n",
       "      <th>housing</th>\n",
       "      <th>loan</th>\n",
       "      <th>contact</th>\n",
       "      <th>day</th>\n",
       "      <th>month</th>\n",
       "      <th>duration</th>\n",
       "      <th>campaign</th>\n",
       "      <th>pdays</th>\n",
       "      <th>previous</th>\n",
       "      <th>poutcome</th>\n",
       "      <th>y</th>\n",
       "    </tr>\n",
       "  </thead>\n",
       "  <tbody>\n",
       "    <tr>\n",
       "      <th>0</th>\n",
       "      <td>58</td>\n",
       "      <td>management</td>\n",
       "      <td>married</td>\n",
       "      <td>tertiary</td>\n",
       "      <td>no</td>\n",
       "      <td>2143</td>\n",
       "      <td>yes</td>\n",
       "      <td>no</td>\n",
       "      <td>unknown</td>\n",
       "      <td>5</td>\n",
       "      <td>may</td>\n",
       "      <td>261</td>\n",
       "      <td>1</td>\n",
       "      <td>-1</td>\n",
       "      <td>0</td>\n",
       "      <td>unknown</td>\n",
       "      <td>no</td>\n",
       "    </tr>\n",
       "    <tr>\n",
       "      <th>1</th>\n",
       "      <td>44</td>\n",
       "      <td>technician</td>\n",
       "      <td>single</td>\n",
       "      <td>secondary</td>\n",
       "      <td>no</td>\n",
       "      <td>29</td>\n",
       "      <td>yes</td>\n",
       "      <td>no</td>\n",
       "      <td>unknown</td>\n",
       "      <td>5</td>\n",
       "      <td>may</td>\n",
       "      <td>151</td>\n",
       "      <td>1</td>\n",
       "      <td>-1</td>\n",
       "      <td>0</td>\n",
       "      <td>unknown</td>\n",
       "      <td>no</td>\n",
       "    </tr>\n",
       "    <tr>\n",
       "      <th>2</th>\n",
       "      <td>33</td>\n",
       "      <td>entrepreneur</td>\n",
       "      <td>married</td>\n",
       "      <td>secondary</td>\n",
       "      <td>no</td>\n",
       "      <td>2</td>\n",
       "      <td>yes</td>\n",
       "      <td>yes</td>\n",
       "      <td>unknown</td>\n",
       "      <td>5</td>\n",
       "      <td>may</td>\n",
       "      <td>76</td>\n",
       "      <td>1</td>\n",
       "      <td>-1</td>\n",
       "      <td>0</td>\n",
       "      <td>unknown</td>\n",
       "      <td>no</td>\n",
       "    </tr>\n",
       "    <tr>\n",
       "      <th>3</th>\n",
       "      <td>47</td>\n",
       "      <td>blue-collar</td>\n",
       "      <td>married</td>\n",
       "      <td>unknown</td>\n",
       "      <td>no</td>\n",
       "      <td>1506</td>\n",
       "      <td>yes</td>\n",
       "      <td>no</td>\n",
       "      <td>unknown</td>\n",
       "      <td>5</td>\n",
       "      <td>may</td>\n",
       "      <td>92</td>\n",
       "      <td>1</td>\n",
       "      <td>-1</td>\n",
       "      <td>0</td>\n",
       "      <td>unknown</td>\n",
       "      <td>no</td>\n",
       "    </tr>\n",
       "    <tr>\n",
       "      <th>4</th>\n",
       "      <td>33</td>\n",
       "      <td>unknown</td>\n",
       "      <td>single</td>\n",
       "      <td>unknown</td>\n",
       "      <td>no</td>\n",
       "      <td>1</td>\n",
       "      <td>no</td>\n",
       "      <td>no</td>\n",
       "      <td>unknown</td>\n",
       "      <td>5</td>\n",
       "      <td>may</td>\n",
       "      <td>198</td>\n",
       "      <td>1</td>\n",
       "      <td>-1</td>\n",
       "      <td>0</td>\n",
       "      <td>unknown</td>\n",
       "      <td>no</td>\n",
       "    </tr>\n",
       "  </tbody>\n",
       "</table>\n",
       "</div>"
      ],
      "text/plain": [
       "   age           job  marital  education default  balance housing loan  \\\n",
       "0   58    management  married   tertiary      no     2143     yes   no   \n",
       "1   44    technician   single  secondary      no       29     yes   no   \n",
       "2   33  entrepreneur  married  secondary      no        2     yes  yes   \n",
       "3   47   blue-collar  married    unknown      no     1506     yes   no   \n",
       "4   33       unknown   single    unknown      no        1      no   no   \n",
       "\n",
       "   contact  day month  duration  campaign  pdays  previous poutcome   y  \n",
       "0  unknown    5   may       261         1     -1         0  unknown  no  \n",
       "1  unknown    5   may       151         1     -1         0  unknown  no  \n",
       "2  unknown    5   may        76         1     -1         0  unknown  no  \n",
       "3  unknown    5   may        92         1     -1         0  unknown  no  \n",
       "4  unknown    5   may       198         1     -1         0  unknown  no  "
      ]
     },
     "execution_count": 3,
     "metadata": {},
     "output_type": "execute_result"
    }
   ],
   "source": [
    "data.head()"
   ]
  },
  {
   "cell_type": "code",
   "execution_count": 4,
   "id": "0a607d2a-71ad-4472-966a-9b9aabfea917",
   "metadata": {},
   "outputs": [
    {
     "data": {
      "text/plain": [
       "age           int64\n",
       "job          object\n",
       "marital      object\n",
       "education    object\n",
       "default      object\n",
       "balance       int64\n",
       "housing      object\n",
       "loan         object\n",
       "contact      object\n",
       "day           int64\n",
       "month        object\n",
       "duration      int64\n",
       "campaign      int64\n",
       "pdays         int64\n",
       "previous      int64\n",
       "poutcome     object\n",
       "y            object\n",
       "dtype: object"
      ]
     },
     "execution_count": 4,
     "metadata": {},
     "output_type": "execute_result"
    }
   ],
   "source": [
    "data.dtypes"
   ]
  },
  {
   "cell_type": "code",
   "execution_count": 5,
   "id": "5bb1d2a3-644a-4692-b5a3-d5b0219772d3",
   "metadata": {},
   "outputs": [],
   "source": [
    "numerical=['age','balance','day','duration','campaign','pdays','previous']"
   ]
  },
  {
   "cell_type": "code",
   "execution_count": 6,
   "id": "e8b7ef85-38ff-48b5-aaa8-3097084175ce",
   "metadata": {},
   "outputs": [
    {
     "data": {
      "text/plain": [
       "age         0\n",
       "balance     0\n",
       "day         0\n",
       "duration    0\n",
       "campaign    0\n",
       "pdays       0\n",
       "previous    0\n",
       "dtype: int64"
      ]
     },
     "execution_count": 6,
     "metadata": {},
     "output_type": "execute_result"
    }
   ],
   "source": [
    "data[numerical].isnull().sum()"
   ]
  },
  {
   "cell_type": "code",
   "execution_count": 7,
   "id": "8ef3daff-4a7a-453b-b1df-dd29826982b1",
   "metadata": {},
   "outputs": [
    {
     "data": {
      "text/plain": [
       "education\n",
       "secondary    23202\n",
       "tertiary     13301\n",
       "primary       6851\n",
       "unknown       1857\n",
       "Name: count, dtype: int64"
      ]
     },
     "execution_count": 7,
     "metadata": {},
     "output_type": "execute_result"
    }
   ],
   "source": [
    "data['education'].value_counts()"
   ]
  },
  {
   "cell_type": "code",
   "execution_count": 8,
   "id": "17890c7b-b89a-473a-8a02-a3f03a66c45d",
   "metadata": {},
   "outputs": [
    {
     "name": "stdout",
     "output_type": "stream",
     "text": [
      "               age   balance       day  duration  campaign     pdays  previous\n",
      "age       1.000000  0.097783 -0.009120 -0.004648  0.004760 -0.023758  0.001288\n",
      "balance   0.097783  1.000000  0.004503  0.021560 -0.014578  0.003435  0.016674\n",
      "day      -0.009120  0.004503  1.000000 -0.030206  0.162490 -0.093044 -0.051710\n",
      "duration -0.004648  0.021560 -0.030206  1.000000 -0.084570 -0.001565  0.001203\n",
      "campaign  0.004760 -0.014578  0.162490 -0.084570  1.000000 -0.088628 -0.032855\n",
      "pdays    -0.023758  0.003435 -0.093044 -0.001565 -0.088628  1.000000  0.454820\n",
      "previous  0.001288  0.016674 -0.051710  0.001203 -0.032855  0.454820  1.000000\n"
     ]
    }
   ],
   "source": [
    "correlation_matrix = data[numerical].corr()\n",
    "\n",
    "# Print the result\n",
    "print(correlation_matrix)\n",
    "## 0.454820"
   ]
  },
  {
   "cell_type": "code",
   "execution_count": 9,
   "id": "1fc01dd5-bf02-41b6-a6e0-47db2a3501f6",
   "metadata": {},
   "outputs": [
    {
     "name": "stdout",
     "output_type": "stream",
     "text": [
      "Correlation between age and balance: 0.09778273937134754\n",
      "Correlation between age and day: -0.009120045633549522\n",
      "Correlation between age and duration: -0.004648428470616257\n",
      "Correlation between age and campaign: 0.004760311762456939\n",
      "Correlation between age and pdays: -0.023758014111736316\n",
      "Correlation between age and previous: 0.0012883192026639204\n",
      "Correlation between balance and age: 0.09778273937134753\n",
      "Correlation between balance and day: 0.00450258512971854\n",
      "Correlation between balance and duration: 0.021560380494669025\n",
      "Correlation between balance and campaign: -0.014578278850766227\n",
      "Correlation between balance and pdays: 0.003435321868107075\n",
      "Correlation between balance and previous: 0.016673636728358223\n",
      "Correlation between day and age: -0.009120045633549522\n",
      "Correlation between day and balance: 0.00450258512971854\n",
      "Correlation between day and duration: -0.030206341138651692\n",
      "Correlation between day and campaign: 0.16249021632619293\n",
      "Correlation between day and pdays: -0.09304407377294052\n",
      "Correlation between day and previous: -0.05171049673580389\n",
      "Correlation between duration and age: -0.004648428470616257\n",
      "Correlation between duration and balance: 0.021560380494669025\n",
      "Correlation between duration and day: -0.030206341138651695\n",
      "Correlation between duration and campaign: -0.08456950273006175\n",
      "Correlation between duration and pdays: -0.0015647704813434307\n",
      "Correlation between duration and previous: 0.0012030569167003323\n",
      "Correlation between campaign and age: 0.004760311762456939\n",
      "Correlation between campaign and balance: -0.014578278850766225\n",
      "Correlation between campaign and day: 0.16249021632619293\n",
      "Correlation between campaign and duration: -0.08456950273006175\n",
      "Correlation between campaign and pdays: -0.08862766791568391\n",
      "Correlation between campaign and previous: -0.032855289678278984\n",
      "Correlation between pdays and age: -0.023758014111736316\n",
      "Correlation between pdays and balance: 0.003435321868107075\n",
      "Correlation between pdays and day: -0.09304407377294051\n",
      "Correlation between pdays and duration: -0.0015647704813434307\n",
      "Correlation between pdays and campaign: -0.08862766791568391\n",
      "Correlation between pdays and previous: 0.45481963548050075\n",
      "Correlation between previous and age: 0.0012883192026639204\n",
      "Correlation between previous and balance: 0.016673636728358227\n",
      "Correlation between previous and day: -0.051710496735803885\n",
      "Correlation between previous and duration: 0.0012030569167003323\n",
      "Correlation between previous and campaign: -0.032855289678278984\n",
      "Correlation between previous and pdays: 0.4548196354805008\n"
     ]
    }
   ],
   "source": [
    "for x in numerical:\n",
    "    for y in numerical:\n",
    "        if x != y:  # To avoid computing the correlation of a column with itself\n",
    "            corr_value = data[x].corr(data[y])\n",
    "            print(f\"Correlation between {x} and {y}: {corr_value}\")\n"
   ]
  },
  {
   "cell_type": "code",
   "execution_count": 10,
   "id": "c810f2c9-7414-44b4-9441-58fa348dd48f",
   "metadata": {},
   "outputs": [],
   "source": [
    "data['y'] = data['y'].map({'yes': 1, 'no': 0})"
   ]
  },
  {
   "cell_type": "code",
   "execution_count": 11,
   "id": "e3811f3a-3446-475b-8f4c-0e8490f9ecc4",
   "metadata": {},
   "outputs": [
    {
     "data": {
      "text/html": [
       "<div>\n",
       "<style scoped>\n",
       "    .dataframe tbody tr th:only-of-type {\n",
       "        vertical-align: middle;\n",
       "    }\n",
       "\n",
       "    .dataframe tbody tr th {\n",
       "        vertical-align: top;\n",
       "    }\n",
       "\n",
       "    .dataframe thead th {\n",
       "        text-align: right;\n",
       "    }\n",
       "</style>\n",
       "<table border=\"1\" class=\"dataframe\">\n",
       "  <thead>\n",
       "    <tr style=\"text-align: right;\">\n",
       "      <th></th>\n",
       "      <th>age</th>\n",
       "      <th>job</th>\n",
       "      <th>marital</th>\n",
       "      <th>education</th>\n",
       "      <th>default</th>\n",
       "      <th>balance</th>\n",
       "      <th>housing</th>\n",
       "      <th>loan</th>\n",
       "      <th>contact</th>\n",
       "      <th>day</th>\n",
       "      <th>month</th>\n",
       "      <th>duration</th>\n",
       "      <th>campaign</th>\n",
       "      <th>pdays</th>\n",
       "      <th>previous</th>\n",
       "      <th>poutcome</th>\n",
       "      <th>y</th>\n",
       "    </tr>\n",
       "  </thead>\n",
       "  <tbody>\n",
       "    <tr>\n",
       "      <th>0</th>\n",
       "      <td>58</td>\n",
       "      <td>management</td>\n",
       "      <td>married</td>\n",
       "      <td>tertiary</td>\n",
       "      <td>no</td>\n",
       "      <td>2143</td>\n",
       "      <td>yes</td>\n",
       "      <td>no</td>\n",
       "      <td>unknown</td>\n",
       "      <td>5</td>\n",
       "      <td>may</td>\n",
       "      <td>261</td>\n",
       "      <td>1</td>\n",
       "      <td>-1</td>\n",
       "      <td>0</td>\n",
       "      <td>unknown</td>\n",
       "      <td>0</td>\n",
       "    </tr>\n",
       "    <tr>\n",
       "      <th>1</th>\n",
       "      <td>44</td>\n",
       "      <td>technician</td>\n",
       "      <td>single</td>\n",
       "      <td>secondary</td>\n",
       "      <td>no</td>\n",
       "      <td>29</td>\n",
       "      <td>yes</td>\n",
       "      <td>no</td>\n",
       "      <td>unknown</td>\n",
       "      <td>5</td>\n",
       "      <td>may</td>\n",
       "      <td>151</td>\n",
       "      <td>1</td>\n",
       "      <td>-1</td>\n",
       "      <td>0</td>\n",
       "      <td>unknown</td>\n",
       "      <td>0</td>\n",
       "    </tr>\n",
       "    <tr>\n",
       "      <th>2</th>\n",
       "      <td>33</td>\n",
       "      <td>entrepreneur</td>\n",
       "      <td>married</td>\n",
       "      <td>secondary</td>\n",
       "      <td>no</td>\n",
       "      <td>2</td>\n",
       "      <td>yes</td>\n",
       "      <td>yes</td>\n",
       "      <td>unknown</td>\n",
       "      <td>5</td>\n",
       "      <td>may</td>\n",
       "      <td>76</td>\n",
       "      <td>1</td>\n",
       "      <td>-1</td>\n",
       "      <td>0</td>\n",
       "      <td>unknown</td>\n",
       "      <td>0</td>\n",
       "    </tr>\n",
       "    <tr>\n",
       "      <th>3</th>\n",
       "      <td>47</td>\n",
       "      <td>blue-collar</td>\n",
       "      <td>married</td>\n",
       "      <td>unknown</td>\n",
       "      <td>no</td>\n",
       "      <td>1506</td>\n",
       "      <td>yes</td>\n",
       "      <td>no</td>\n",
       "      <td>unknown</td>\n",
       "      <td>5</td>\n",
       "      <td>may</td>\n",
       "      <td>92</td>\n",
       "      <td>1</td>\n",
       "      <td>-1</td>\n",
       "      <td>0</td>\n",
       "      <td>unknown</td>\n",
       "      <td>0</td>\n",
       "    </tr>\n",
       "    <tr>\n",
       "      <th>4</th>\n",
       "      <td>33</td>\n",
       "      <td>unknown</td>\n",
       "      <td>single</td>\n",
       "      <td>unknown</td>\n",
       "      <td>no</td>\n",
       "      <td>1</td>\n",
       "      <td>no</td>\n",
       "      <td>no</td>\n",
       "      <td>unknown</td>\n",
       "      <td>5</td>\n",
       "      <td>may</td>\n",
       "      <td>198</td>\n",
       "      <td>1</td>\n",
       "      <td>-1</td>\n",
       "      <td>0</td>\n",
       "      <td>unknown</td>\n",
       "      <td>0</td>\n",
       "    </tr>\n",
       "  </tbody>\n",
       "</table>\n",
       "</div>"
      ],
      "text/plain": [
       "   age           job  marital  education default  balance housing loan  \\\n",
       "0   58    management  married   tertiary      no     2143     yes   no   \n",
       "1   44    technician   single  secondary      no       29     yes   no   \n",
       "2   33  entrepreneur  married  secondary      no        2     yes  yes   \n",
       "3   47   blue-collar  married    unknown      no     1506     yes   no   \n",
       "4   33       unknown   single    unknown      no        1      no   no   \n",
       "\n",
       "   contact  day month  duration  campaign  pdays  previous poutcome  y  \n",
       "0  unknown    5   may       261         1     -1         0  unknown  0  \n",
       "1  unknown    5   may       151         1     -1         0  unknown  0  \n",
       "2  unknown    5   may        76         1     -1         0  unknown  0  \n",
       "3  unknown    5   may        92         1     -1         0  unknown  0  \n",
       "4  unknown    5   may       198         1     -1         0  unknown  0  "
      ]
     },
     "execution_count": 11,
     "metadata": {},
     "output_type": "execute_result"
    }
   ],
   "source": [
    "data.head()"
   ]
  },
  {
   "cell_type": "code",
   "execution_count": 12,
   "id": "6afa7061-7425-405b-a3d2-8a050a36ff1e",
   "metadata": {},
   "outputs": [],
   "source": [
    "from sklearn.model_selection import train_test_split\n",
    "data_full_train,data_test=train_test_split(data,test_size=0.2,random_state=42)\n",
    "data_train,data_val=train_test_split(data,test_size=0.25,random_state=42)"
   ]
  },
  {
   "cell_type": "code",
   "execution_count": 13,
   "id": "bcd262bc-9e7f-4b11-9064-6ab6770faa9b",
   "metadata": {},
   "outputs": [],
   "source": [
    "y_train=data_train['y'].values\n",
    "del data_train['y']\n",
    "y_val=data_val['y'].values\n",
    "del data_val['y']\n",
    "y_test=data_test['y'].values\n",
    "del data_test['y']\n",
    "y_full_train=data_full_train['y'].values\n",
    "del data_full_train['y']"
   ]
  },
  {
   "cell_type": "code",
   "execution_count": 14,
   "id": "db36e0f9-322c-4987-9621-c8e75623a920",
   "metadata": {},
   "outputs": [],
   "source": [
    "categorical=['poutcome',\n",
    " 'education',\n",
    " 'housing',\n",
    " 'month',\n",
    " 'marital',\n",
    " 'default',\n",
    " 'loan',\n",
    " 'job',\n",
    " 'contact']"
   ]
  },
  {
   "cell_type": "code",
   "execution_count": 15,
   "id": "3084085a-8e32-4188-80e7-66d092bd5524",
   "metadata": {},
   "outputs": [],
   "source": [
    "data_train['y']=y_train"
   ]
  },
  {
   "cell_type": "code",
   "execution_count": 16,
   "id": "30b6a339-3806-46df-baec-32014a21808e",
   "metadata": {
    "scrolled": true
   },
   "outputs": [
    {
     "data": {
      "text/plain": [
       "poutcome     0.03\n",
       "month        0.02\n",
       "contact      0.01\n",
       "housing      0.01\n",
       "job          0.01\n",
       "loan         0.00\n",
       "education    0.00\n",
       "marital      0.00\n",
       "default      0.00\n",
       "dtype: float64"
      ]
     },
     "execution_count": 16,
     "metadata": {},
     "output_type": "execute_result"
    }
   ],
   "source": [
    "from sklearn.metrics import mutual_info_score\n",
    "def mutual_info_y_score(series):\n",
    "    return mutual_info_score(series,data_train['y'])\n",
    "mi=data_train[categorical].apply(mutual_info_y_score)\n",
    "score=mi.sort_values(ascending=False)\n",
    "score.round(2)"
   ]
  },
  {
   "cell_type": "code",
   "execution_count": 17,
   "id": "be982d71-623e-46c3-a8b2-6ecbea2c8eeb",
   "metadata": {},
   "outputs": [
    {
     "data": {
      "text/html": [
       "<div>\n",
       "<style scoped>\n",
       "    .dataframe tbody tr th:only-of-type {\n",
       "        vertical-align: middle;\n",
       "    }\n",
       "\n",
       "    .dataframe tbody tr th {\n",
       "        vertical-align: top;\n",
       "    }\n",
       "\n",
       "    .dataframe thead th {\n",
       "        text-align: right;\n",
       "    }\n",
       "</style>\n",
       "<table border=\"1\" class=\"dataframe\">\n",
       "  <thead>\n",
       "    <tr style=\"text-align: right;\">\n",
       "      <th></th>\n",
       "      <th>age</th>\n",
       "      <th>job</th>\n",
       "      <th>marital</th>\n",
       "      <th>education</th>\n",
       "      <th>default</th>\n",
       "      <th>balance</th>\n",
       "      <th>housing</th>\n",
       "      <th>loan</th>\n",
       "      <th>contact</th>\n",
       "      <th>day</th>\n",
       "      <th>month</th>\n",
       "      <th>duration</th>\n",
       "      <th>campaign</th>\n",
       "      <th>pdays</th>\n",
       "      <th>previous</th>\n",
       "      <th>poutcome</th>\n",
       "      <th>y</th>\n",
       "    </tr>\n",
       "  </thead>\n",
       "  <tbody>\n",
       "    <tr>\n",
       "      <th>41626</th>\n",
       "      <td>52</td>\n",
       "      <td>admin.</td>\n",
       "      <td>married</td>\n",
       "      <td>secondary</td>\n",
       "      <td>no</td>\n",
       "      <td>118</td>\n",
       "      <td>no</td>\n",
       "      <td>no</td>\n",
       "      <td>cellular</td>\n",
       "      <td>25</td>\n",
       "      <td>sep</td>\n",
       "      <td>105</td>\n",
       "      <td>1</td>\n",
       "      <td>-1</td>\n",
       "      <td>0</td>\n",
       "      <td>unknown</td>\n",
       "      <td>0</td>\n",
       "    </tr>\n",
       "    <tr>\n",
       "      <th>31347</th>\n",
       "      <td>28</td>\n",
       "      <td>student</td>\n",
       "      <td>single</td>\n",
       "      <td>secondary</td>\n",
       "      <td>no</td>\n",
       "      <td>459</td>\n",
       "      <td>no</td>\n",
       "      <td>no</td>\n",
       "      <td>cellular</td>\n",
       "      <td>16</td>\n",
       "      <td>mar</td>\n",
       "      <td>83</td>\n",
       "      <td>13</td>\n",
       "      <td>-1</td>\n",
       "      <td>0</td>\n",
       "      <td>unknown</td>\n",
       "      <td>0</td>\n",
       "    </tr>\n",
       "    <tr>\n",
       "      <th>22563</th>\n",
       "      <td>36</td>\n",
       "      <td>management</td>\n",
       "      <td>single</td>\n",
       "      <td>tertiary</td>\n",
       "      <td>no</td>\n",
       "      <td>156</td>\n",
       "      <td>no</td>\n",
       "      <td>no</td>\n",
       "      <td>cellular</td>\n",
       "      <td>22</td>\n",
       "      <td>aug</td>\n",
       "      <td>122</td>\n",
       "      <td>1</td>\n",
       "      <td>-1</td>\n",
       "      <td>0</td>\n",
       "      <td>unknown</td>\n",
       "      <td>0</td>\n",
       "    </tr>\n",
       "    <tr>\n",
       "      <th>37243</th>\n",
       "      <td>55</td>\n",
       "      <td>entrepreneur</td>\n",
       "      <td>married</td>\n",
       "      <td>tertiary</td>\n",
       "      <td>no</td>\n",
       "      <td>323</td>\n",
       "      <td>yes</td>\n",
       "      <td>yes</td>\n",
       "      <td>cellular</td>\n",
       "      <td>13</td>\n",
       "      <td>may</td>\n",
       "      <td>200</td>\n",
       "      <td>1</td>\n",
       "      <td>-1</td>\n",
       "      <td>0</td>\n",
       "      <td>unknown</td>\n",
       "      <td>0</td>\n",
       "    </tr>\n",
       "    <tr>\n",
       "      <th>32259</th>\n",
       "      <td>38</td>\n",
       "      <td>services</td>\n",
       "      <td>divorced</td>\n",
       "      <td>secondary</td>\n",
       "      <td>no</td>\n",
       "      <td>904</td>\n",
       "      <td>yes</td>\n",
       "      <td>no</td>\n",
       "      <td>cellular</td>\n",
       "      <td>16</td>\n",
       "      <td>apr</td>\n",
       "      <td>361</td>\n",
       "      <td>1</td>\n",
       "      <td>339</td>\n",
       "      <td>1</td>\n",
       "      <td>failure</td>\n",
       "      <td>0</td>\n",
       "    </tr>\n",
       "  </tbody>\n",
       "</table>\n",
       "</div>"
      ],
      "text/plain": [
       "       age           job   marital  education default  balance housing loan  \\\n",
       "41626   52        admin.   married  secondary      no      118      no   no   \n",
       "31347   28       student    single  secondary      no      459      no   no   \n",
       "22563   36    management    single   tertiary      no      156      no   no   \n",
       "37243   55  entrepreneur   married   tertiary      no      323     yes  yes   \n",
       "32259   38      services  divorced  secondary      no      904     yes   no   \n",
       "\n",
       "        contact  day month  duration  campaign  pdays  previous poutcome  y  \n",
       "41626  cellular   25   sep       105         1     -1         0  unknown  0  \n",
       "31347  cellular   16   mar        83        13     -1         0  unknown  0  \n",
       "22563  cellular   22   aug       122         1     -1         0  unknown  0  \n",
       "37243  cellular   13   may       200         1     -1         0  unknown  0  \n",
       "32259  cellular   16   apr       361         1    339         1  failure  0  "
      ]
     },
     "execution_count": 17,
     "metadata": {},
     "output_type": "execute_result"
    }
   ],
   "source": [
    "data_train.head()"
   ]
  },
  {
   "cell_type": "code",
   "execution_count": 18,
   "id": "52a6b72d-adcf-41e5-af8f-4ea1978c18ee",
   "metadata": {},
   "outputs": [],
   "source": [
    "del data_train['y']"
   ]
  },
  {
   "cell_type": "code",
   "execution_count": 19,
   "id": "0535eb0f-6127-4757-a1f8-2e8dfeda0a32",
   "metadata": {},
   "outputs": [
    {
     "data": {
      "text/plain": [
       "array(['age', 'balance', 'campaign', 'contact=cellular',\n",
       "       'contact=telephone', 'contact=unknown', 'day', 'default=no',\n",
       "       'default=yes', 'duration', 'education=primary',\n",
       "       'education=secondary', 'education=tertiary', 'education=unknown',\n",
       "       'housing=no', 'housing=yes', 'job=admin.', 'job=blue-collar',\n",
       "       'job=entrepreneur', 'job=housemaid', 'job=management',\n",
       "       'job=retired', 'job=self-employed', 'job=services', 'job=student',\n",
       "       'job=technician', 'job=unemployed', 'job=unknown', 'loan=no',\n",
       "       'loan=yes', 'marital=divorced', 'marital=married',\n",
       "       'marital=single', 'month=apr', 'month=aug', 'month=dec',\n",
       "       'month=feb', 'month=jan', 'month=jul', 'month=jun', 'month=mar',\n",
       "       'month=may', 'month=nov', 'month=oct', 'month=sep', 'pdays',\n",
       "       'poutcome=failure', 'poutcome=other', 'poutcome=success',\n",
       "       'poutcome=unknown', 'previous'], dtype=object)"
      ]
     },
     "execution_count": 19,
     "metadata": {},
     "output_type": "execute_result"
    }
   ],
   "source": [
    "from sklearn.feature_extraction import DictVectorizer\n",
    "train_dict=data_train[categorical+numerical].to_dict(orient='records')\n",
    "dv=DictVectorizer(sparse=False)\n",
    "data_train2 =dv.fit_transform(train_dict)\n",
    "dv.get_feature_names_out()"
   ]
  },
  {
   "cell_type": "code",
   "execution_count": 20,
   "id": "a4d91d65-41cc-433c-8a68-e8736b2785f2",
   "metadata": {},
   "outputs": [],
   "source": [
    "val_dict = data_val[categorical + numerical].to_dict(orient='records')\n",
    "data_val1 = dv.transform(val_dict)"
   ]
  },
  {
   "cell_type": "code",
   "execution_count": 21,
   "id": "44a8c616-348c-44a3-b0ca-3f42c46ace75",
   "metadata": {},
   "outputs": [
    {
     "data": {
      "text/plain": [
       "np.float64(0.8990533486684951)"
      ]
     },
     "execution_count": 21,
     "metadata": {},
     "output_type": "execute_result"
    }
   ],
   "source": [
    "from sklearn.linear_model import LogisticRegression\n",
    "model = LogisticRegression(solver='liblinear', C=1.0, max_iter=1000, random_state=42)\n",
    "model.fit(data_train2,y_train)\n",
    "y_pred=model.predict(data_val1)\n",
    "x=(y_val==y_pred).mean()\n",
    "x"
   ]
  },
  {
   "cell_type": "code",
   "execution_count": 22,
   "id": "d96a9aee-8ae5-42e6-88ed-4f7b753bb22b",
   "metadata": {},
   "outputs": [
    {
     "data": {
      "text/plain": [
       "np.float64(0.00026541626116960426)"
      ]
     },
     "execution_count": 22,
     "metadata": {},
     "output_type": "execute_result"
    }
   ],
   "source": [
    "col=['poutcome','education','housing','month','marital',\n",
    "'default', 'loan','job','contact','balance','day','duration',\n",
    " 'campaign','pdays','previous']\n",
    "\n",
    "train_dict=data_train[col].to_dict(orient='records')\n",
    "dv=DictVectorizer(sparse=False)\n",
    "data_train_age =dv.fit_transform(train_dict)\n",
    "\n",
    "val_dict = data_val[col].to_dict(orient='records')\n",
    "data_val1 = dv.transform(val_dict)\n",
    "\n",
    "model = LogisticRegression(solver='liblinear', C=1.0, max_iter=1000, random_state=42)\n",
    "model.fit(data_train_age,y_train)\n",
    "y_pred=model.predict(data_val1)\n",
    "x1=(y_val==y_pred).mean()\n",
    "x-x1"
   ]
  },
  {
   "cell_type": "code",
   "execution_count": 28,
   "id": "1b4c3519-183f-4972-917b-6f9b7b8c0300",
   "metadata": {},
   "outputs": [
    {
     "data": {
      "text/plain": [
       "np.float64(-0.00026541626116960426)"
      ]
     },
     "execution_count": 28,
     "metadata": {},
     "output_type": "execute_result"
    }
   ],
   "source": [
    "col=['poutcome','education','housing','month','marital',\n",
    "'default', 'loan','job','contact','day','duration',\n",
    " 'campaign','pdays','previous','age']\n",
    "\n",
    "train_dict=data_train[col].to_dict(orient='records')\n",
    "dv=DictVectorizer(sparse=False)\n",
    "data_train_balance =dv.fit_transform(train_dict)\n",
    "\n",
    "val_dict = data_val[col].to_dict(orient='records')\n",
    "data_val1 = dv.transform(val_dict)\n",
    "\n",
    "model = LogisticRegression(solver='liblinear', C=1.0, max_iter=1000, random_state=42)\n",
    "model.fit(data_train_balance,y_train)\n",
    "y_pred=model.predict(data_val1)\n",
    "x1=(y_val==y_pred).mean()\n",
    "x-x1"
   ]
  },
  {
   "cell_type": "code",
   "execution_count": 27,
   "id": "bcb9f478-8f2a-483d-941a-9469af41bbbe",
   "metadata": {},
   "outputs": [
    {
     "data": {
      "text/plain": [
       "np.float64(0.0001769441741130695)"
      ]
     },
     "execution_count": 27,
     "metadata": {},
     "output_type": "execute_result"
    }
   ],
   "source": [
    "col=['age','poutcome','education','housing','month','marital',\n",
    "'default', 'loan','job','contact','day','duration',\n",
    " 'campaign','pdays','balance']\n",
    "\n",
    "train_dict=data_train[col].to_dict(orient='records')\n",
    "dv=DictVectorizer(sparse=False)\n",
    "data_train_previous =dv.fit_transform(train_dict)\n",
    "\n",
    "val_dict = data_val[col].to_dict(orient='records')\n",
    "data_val1 = dv.transform(val_dict)\n",
    "\n",
    "model = LogisticRegression(solver='liblinear', C=1.0, max_iter=1000, random_state=42)\n",
    "model.fit(data_train_previous,y_train)\n",
    "y_pred=model.predict(data_val1)\n",
    "x1=(y_val==y_pred).mean()\n",
    "x-x1"
   ]
  },
  {
   "cell_type": "code",
   "execution_count": 30,
   "id": "78a22087-4cf3-4410-a873-9e33a0d8ec47",
   "metadata": {},
   "outputs": [
    {
     "data": {
      "text/plain": [
       "np.float64(-0.000353888348226139)"
      ]
     },
     "execution_count": 30,
     "metadata": {},
     "output_type": "execute_result"
    }
   ],
   "source": [
    "col=['age','poutcome','education','housing','month',\n",
    "'default', 'loan','job','contact','day','duration',\n",
    " 'campaign','pdays','balance','previous']\n",
    "\n",
    "train_dict=data_train[col].to_dict(orient='records')\n",
    "dv=DictVectorizer(sparse=False)\n",
    "data_train_marital =dv.fit_transform(train_dict)\n",
    "\n",
    "val_dict = data_val[col].to_dict(orient='records')\n",
    "data_val3 = dv.transform(val_dict)\n",
    "\n",
    "model = LogisticRegression(solver='liblinear', C=1.0, max_iter=1000, random_state=42)\n",
    "model.fit(data_train_marital,y_train)\n",
    "y_pred=model.predict(data_val3)\n",
    "x1=(y_val==y_pred).mean()\n",
    "x-x1"
   ]
  },
  {
   "cell_type": "code",
   "execution_count": 32,
   "id": "82b1d440-67fb-4a96-ac69-197830a21411",
   "metadata": {},
   "outputs": [],
   "source": [
    "flick={}\n",
    "for v in [0.01, 0.1, 1, 10, 100]:\n",
    "    col=['age','poutcome','education','housing','month','default', 'loan','job','contact','day','duration',\n",
    "           'campaign','pdays','balance','previous','marital']\n",
    "\n",
    "    train_dict=data_train[col].to_dict(orient='records')\n",
    "    dv=DictVectorizer(sparse=False)\n",
    "    data_train_regularized =dv.fit_transform(train_dict)\n",
    "\n",
    "    val_dict = data_val[col].to_dict(orient='records')\n",
    "    data_val_regularized = dv.transform(val_dict)\n",
    "\n",
    "    model = LogisticRegression(solver='liblinear', C=v, max_iter=1000, random_state=42)\n",
    "    model.fit(data_train_regularized,y_train)\n",
    "    y_pred=model.predict(data_val_regularized)\n",
    "    flick[v]=(y_val==y_pred).mean()"
   ]
  },
  {
   "cell_type": "code",
   "execution_count": 33,
   "id": "5cb558d0-7da7-48b5-a3b1-7b1d72308978",
   "metadata": {},
   "outputs": [
    {
     "data": {
      "text/plain": [
       "{0.01: np.float64(0.897549323188534),\n",
       " 0.1: np.float64(0.8982570998849863),\n",
       " 1: np.float64(0.8990533486684951),\n",
       " 10: np.float64(0.8987879324073255),\n",
       " 100: np.float64(0.8989648765814385)}"
      ]
     },
     "execution_count": 33,
     "metadata": {},
     "output_type": "execute_result"
    }
   ],
   "source": [
    "flick"
   ]
  },
  {
   "cell_type": "code",
   "execution_count": null,
   "id": "800049e0-f71a-4019-a163-09b973e95286",
   "metadata": {},
   "outputs": [],
   "source": []
  }
 ],
 "metadata": {
  "kernelspec": {
   "display_name": "Python 3 (ipykernel)",
   "language": "python",
   "name": "python3"
  },
  "language_info": {
   "codemirror_mode": {
    "name": "ipython",
    "version": 3
   },
   "file_extension": ".py",
   "mimetype": "text/x-python",
   "name": "python",
   "nbconvert_exporter": "python",
   "pygments_lexer": "ipython3",
   "version": "3.12.1"
  }
 },
 "nbformat": 4,
 "nbformat_minor": 5
}
