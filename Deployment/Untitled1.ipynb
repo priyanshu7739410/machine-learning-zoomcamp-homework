{
 "cells": [
  {
   "cell_type": "markdown",
   "id": "a4538e77-075b-4560-850c-552bc1d96f06",
   "metadata": {},
   "source": [
    "LOAD THE MODEL"
   ]
  },
  {
   "cell_type": "code",
   "execution_count": 1,
   "id": "49a112c7-3002-4647-9ad6-d25e695d946a",
   "metadata": {},
   "outputs": [],
   "source": [
    "import pickle"
   ]
  },
  {
   "cell_type": "code",
   "execution_count": 2,
   "id": "bc59c0fd-e705-404f-ab90-6f4d9cb7319c",
   "metadata": {},
   "outputs": [],
   "source": [
    "with open('model_C=1.0.bin','rb') as f_in:\n",
    "    dv, model = pickle.load(f_in)"
   ]
  },
  {
   "cell_type": "code",
   "execution_count": 3,
   "id": "932b7581-4230-4f3f-82cf-a0f43ec4724b",
   "metadata": {},
   "outputs": [
    {
     "data": {
      "text/plain": [
       "(DictVectorizer(sparse=False),\n",
       " LogisticRegression(max_iter=1000, solver='liblinear'))"
      ]
     },
     "execution_count": 3,
     "metadata": {},
     "output_type": "execute_result"
    }
   ],
   "source": [
    "dv,model"
   ]
  },
  {
   "cell_type": "code",
   "execution_count": null,
   "id": "4b1057a2-45a3-4b43-91ab-68576e6def75",
   "metadata": {},
   "outputs": [],
   "source": []
  }
 ],
 "metadata": {
  "kernelspec": {
   "display_name": "Python 3 (ipykernel)",
   "language": "python",
   "name": "python3"
  },
  "language_info": {
   "codemirror_mode": {
    "name": "ipython",
    "version": 3
   },
   "file_extension": ".py",
   "mimetype": "text/x-python",
   "name": "python",
   "nbconvert_exporter": "python",
   "pygments_lexer": "ipython3",
   "version": "3.12.1"
  }
 },
 "nbformat": 4,
 "nbformat_minor": 5
}
