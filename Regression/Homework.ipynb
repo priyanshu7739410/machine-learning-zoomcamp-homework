{
 "cells": [
  {
   "cell_type": "code",
   "execution_count": 1,
   "id": "87ef39d9-75d6-4e4d-b5d7-9f7cf29478f7",
   "metadata": {},
   "outputs": [],
   "source": [
    "import pandas as pd\n",
    "import numpy as np\n",
    "import seaborn as sns\n",
    "import matplotlib.pyplot as plt"
   ]
  },
  {
   "cell_type": "code",
   "execution_count": 2,
   "id": "e560b1f4-b847-442f-b49f-5d3134a22c77",
   "metadata": {},
   "outputs": [
    {
     "name": "stdout",
     "output_type": "stream",
     "text": [
      "--2024-12-28 08:59:23--  https://raw.githubusercontent.com/alexeygrigorev/datasets/master/laptops.csv\n",
      "Resolving raw.githubusercontent.com (raw.githubusercontent.com)... 185.199.108.133, 185.199.109.133, 185.199.110.133, ...\n",
      "connected. to raw.githubusercontent.com (raw.githubusercontent.com)|185.199.108.133|:443... \n",
      "HTTP request sent, awaiting response... 200 OK\n",
      "Length: 298573 (292K) [text/plain]\n",
      "Saving to: ‘laptops.csv.2’\n",
      "\n",
      "laptops.csv.2       100%[===================>] 291.58K  1.90MB/s    in 0.2s    \n",
      "\n",
      "2024-12-28 08:59:23 (1.90 MB/s) - ‘laptops.csv.2’ saved [298573/298573]\n",
      "\n"
     ]
    }
   ],
   "source": [
    "!wget https://raw.githubusercontent.com/alexeygrigorev/datasets/master/laptops.csv"
   ]
  },
  {
   "cell_type": "code",
   "execution_count": 3,
   "id": "5e983380-ae6f-4efd-9b41-8fab50c96cd6",
   "metadata": {},
   "outputs": [],
   "source": [
    "df=pd.read_csv(\"laptops.csv\")"
   ]
  },
  {
   "cell_type": "code",
   "execution_count": 4,
   "id": "f0ebc2a9-89f8-4466-acd0-4b31b4f39d4b",
   "metadata": {},
   "outputs": [
    {
     "data": {
      "text/html": [
       "<div>\n",
       "<style scoped>\n",
       "    .dataframe tbody tr th:only-of-type {\n",
       "        vertical-align: middle;\n",
       "    }\n",
       "\n",
       "    .dataframe tbody tr th {\n",
       "        vertical-align: top;\n",
       "    }\n",
       "\n",
       "    .dataframe thead th {\n",
       "        text-align: right;\n",
       "    }\n",
       "</style>\n",
       "<table border=\"1\" class=\"dataframe\">\n",
       "  <thead>\n",
       "    <tr style=\"text-align: right;\">\n",
       "      <th></th>\n",
       "      <th>Laptop</th>\n",
       "      <th>Status</th>\n",
       "      <th>Brand</th>\n",
       "      <th>Model</th>\n",
       "      <th>CPU</th>\n",
       "      <th>RAM</th>\n",
       "      <th>Storage</th>\n",
       "      <th>Storage type</th>\n",
       "      <th>GPU</th>\n",
       "      <th>Screen</th>\n",
       "      <th>Touch</th>\n",
       "      <th>Final Price</th>\n",
       "    </tr>\n",
       "  </thead>\n",
       "  <tbody>\n",
       "    <tr>\n",
       "      <th>0</th>\n",
       "      <td>ASUS ExpertBook B1 B1502CBA-EJ0436X Intel Core...</td>\n",
       "      <td>New</td>\n",
       "      <td>Asus</td>\n",
       "      <td>ExpertBook</td>\n",
       "      <td>Intel Core i5</td>\n",
       "      <td>8</td>\n",
       "      <td>512</td>\n",
       "      <td>SSD</td>\n",
       "      <td>NaN</td>\n",
       "      <td>15.6</td>\n",
       "      <td>No</td>\n",
       "      <td>1009.00</td>\n",
       "    </tr>\n",
       "    <tr>\n",
       "      <th>1</th>\n",
       "      <td>Alurin Go Start Intel Celeron N4020/8GB/256GB ...</td>\n",
       "      <td>New</td>\n",
       "      <td>Alurin</td>\n",
       "      <td>Go</td>\n",
       "      <td>Intel Celeron</td>\n",
       "      <td>8</td>\n",
       "      <td>256</td>\n",
       "      <td>SSD</td>\n",
       "      <td>NaN</td>\n",
       "      <td>15.6</td>\n",
       "      <td>No</td>\n",
       "      <td>299.00</td>\n",
       "    </tr>\n",
       "    <tr>\n",
       "      <th>2</th>\n",
       "      <td>ASUS ExpertBook B1 B1502CBA-EJ0424X Intel Core...</td>\n",
       "      <td>New</td>\n",
       "      <td>Asus</td>\n",
       "      <td>ExpertBook</td>\n",
       "      <td>Intel Core i3</td>\n",
       "      <td>8</td>\n",
       "      <td>256</td>\n",
       "      <td>SSD</td>\n",
       "      <td>NaN</td>\n",
       "      <td>15.6</td>\n",
       "      <td>No</td>\n",
       "      <td>789.00</td>\n",
       "    </tr>\n",
       "    <tr>\n",
       "      <th>3</th>\n",
       "      <td>MSI Katana GF66 12UC-082XES Intel Core i7-1270...</td>\n",
       "      <td>New</td>\n",
       "      <td>MSI</td>\n",
       "      <td>Katana</td>\n",
       "      <td>Intel Core i7</td>\n",
       "      <td>16</td>\n",
       "      <td>1000</td>\n",
       "      <td>SSD</td>\n",
       "      <td>RTX 3050</td>\n",
       "      <td>15.6</td>\n",
       "      <td>No</td>\n",
       "      <td>1199.00</td>\n",
       "    </tr>\n",
       "    <tr>\n",
       "      <th>4</th>\n",
       "      <td>HP 15S-FQ5085NS Intel Core i5-1235U/16GB/512GB...</td>\n",
       "      <td>New</td>\n",
       "      <td>HP</td>\n",
       "      <td>15S</td>\n",
       "      <td>Intel Core i5</td>\n",
       "      <td>16</td>\n",
       "      <td>512</td>\n",
       "      <td>SSD</td>\n",
       "      <td>NaN</td>\n",
       "      <td>15.6</td>\n",
       "      <td>No</td>\n",
       "      <td>669.01</td>\n",
       "    </tr>\n",
       "  </tbody>\n",
       "</table>\n",
       "</div>"
      ],
      "text/plain": [
       "                                              Laptop Status   Brand  \\\n",
       "0  ASUS ExpertBook B1 B1502CBA-EJ0436X Intel Core...    New    Asus   \n",
       "1  Alurin Go Start Intel Celeron N4020/8GB/256GB ...    New  Alurin   \n",
       "2  ASUS ExpertBook B1 B1502CBA-EJ0424X Intel Core...    New    Asus   \n",
       "3  MSI Katana GF66 12UC-082XES Intel Core i7-1270...    New     MSI   \n",
       "4  HP 15S-FQ5085NS Intel Core i5-1235U/16GB/512GB...    New      HP   \n",
       "\n",
       "        Model            CPU  RAM  Storage Storage type       GPU  Screen  \\\n",
       "0  ExpertBook  Intel Core i5    8      512          SSD       NaN    15.6   \n",
       "1          Go  Intel Celeron    8      256          SSD       NaN    15.6   \n",
       "2  ExpertBook  Intel Core i3    8      256          SSD       NaN    15.6   \n",
       "3      Katana  Intel Core i7   16     1000          SSD  RTX 3050    15.6   \n",
       "4         15S  Intel Core i5   16      512          SSD       NaN    15.6   \n",
       "\n",
       "  Touch  Final Price  \n",
       "0    No      1009.00  \n",
       "1    No       299.00  \n",
       "2    No       789.00  \n",
       "3    No      1199.00  \n",
       "4    No       669.01  "
      ]
     },
     "execution_count": 4,
     "metadata": {},
     "output_type": "execute_result"
    }
   ],
   "source": [
    "df.head()"
   ]
  },
  {
   "cell_type": "code",
   "execution_count": 5,
   "id": "5d584cdc-356b-41dd-852c-4fa24e3b3e5c",
   "metadata": {},
   "outputs": [],
   "source": [
    "df.columns = df.columns.str.lower().str.replace(' ', '_')"
   ]
  },
  {
   "cell_type": "code",
   "execution_count": 6,
   "id": "73d79ced-8f09-4305-b6f0-e12cac1348bb",
   "metadata": {},
   "outputs": [
    {
     "data": {
      "text/html": [
       "<div>\n",
       "<style scoped>\n",
       "    .dataframe tbody tr th:only-of-type {\n",
       "        vertical-align: middle;\n",
       "    }\n",
       "\n",
       "    .dataframe tbody tr th {\n",
       "        vertical-align: top;\n",
       "    }\n",
       "\n",
       "    .dataframe thead th {\n",
       "        text-align: right;\n",
       "    }\n",
       "</style>\n",
       "<table border=\"1\" class=\"dataframe\">\n",
       "  <thead>\n",
       "    <tr style=\"text-align: right;\">\n",
       "      <th></th>\n",
       "      <th>laptop</th>\n",
       "      <th>status</th>\n",
       "      <th>brand</th>\n",
       "      <th>model</th>\n",
       "      <th>cpu</th>\n",
       "      <th>ram</th>\n",
       "      <th>storage</th>\n",
       "      <th>storage_type</th>\n",
       "      <th>gpu</th>\n",
       "      <th>screen</th>\n",
       "      <th>touch</th>\n",
       "      <th>final_price</th>\n",
       "    </tr>\n",
       "  </thead>\n",
       "  <tbody>\n",
       "    <tr>\n",
       "      <th>0</th>\n",
       "      <td>ASUS ExpertBook B1 B1502CBA-EJ0436X Intel Core...</td>\n",
       "      <td>New</td>\n",
       "      <td>Asus</td>\n",
       "      <td>ExpertBook</td>\n",
       "      <td>Intel Core i5</td>\n",
       "      <td>8</td>\n",
       "      <td>512</td>\n",
       "      <td>SSD</td>\n",
       "      <td>NaN</td>\n",
       "      <td>15.6</td>\n",
       "      <td>No</td>\n",
       "      <td>1009.00</td>\n",
       "    </tr>\n",
       "    <tr>\n",
       "      <th>1</th>\n",
       "      <td>Alurin Go Start Intel Celeron N4020/8GB/256GB ...</td>\n",
       "      <td>New</td>\n",
       "      <td>Alurin</td>\n",
       "      <td>Go</td>\n",
       "      <td>Intel Celeron</td>\n",
       "      <td>8</td>\n",
       "      <td>256</td>\n",
       "      <td>SSD</td>\n",
       "      <td>NaN</td>\n",
       "      <td>15.6</td>\n",
       "      <td>No</td>\n",
       "      <td>299.00</td>\n",
       "    </tr>\n",
       "    <tr>\n",
       "      <th>2</th>\n",
       "      <td>ASUS ExpertBook B1 B1502CBA-EJ0424X Intel Core...</td>\n",
       "      <td>New</td>\n",
       "      <td>Asus</td>\n",
       "      <td>ExpertBook</td>\n",
       "      <td>Intel Core i3</td>\n",
       "      <td>8</td>\n",
       "      <td>256</td>\n",
       "      <td>SSD</td>\n",
       "      <td>NaN</td>\n",
       "      <td>15.6</td>\n",
       "      <td>No</td>\n",
       "      <td>789.00</td>\n",
       "    </tr>\n",
       "    <tr>\n",
       "      <th>3</th>\n",
       "      <td>MSI Katana GF66 12UC-082XES Intel Core i7-1270...</td>\n",
       "      <td>New</td>\n",
       "      <td>MSI</td>\n",
       "      <td>Katana</td>\n",
       "      <td>Intel Core i7</td>\n",
       "      <td>16</td>\n",
       "      <td>1000</td>\n",
       "      <td>SSD</td>\n",
       "      <td>RTX 3050</td>\n",
       "      <td>15.6</td>\n",
       "      <td>No</td>\n",
       "      <td>1199.00</td>\n",
       "    </tr>\n",
       "    <tr>\n",
       "      <th>4</th>\n",
       "      <td>HP 15S-FQ5085NS Intel Core i5-1235U/16GB/512GB...</td>\n",
       "      <td>New</td>\n",
       "      <td>HP</td>\n",
       "      <td>15S</td>\n",
       "      <td>Intel Core i5</td>\n",
       "      <td>16</td>\n",
       "      <td>512</td>\n",
       "      <td>SSD</td>\n",
       "      <td>NaN</td>\n",
       "      <td>15.6</td>\n",
       "      <td>No</td>\n",
       "      <td>669.01</td>\n",
       "    </tr>\n",
       "  </tbody>\n",
       "</table>\n",
       "</div>"
      ],
      "text/plain": [
       "                                              laptop status   brand  \\\n",
       "0  ASUS ExpertBook B1 B1502CBA-EJ0436X Intel Core...    New    Asus   \n",
       "1  Alurin Go Start Intel Celeron N4020/8GB/256GB ...    New  Alurin   \n",
       "2  ASUS ExpertBook B1 B1502CBA-EJ0424X Intel Core...    New    Asus   \n",
       "3  MSI Katana GF66 12UC-082XES Intel Core i7-1270...    New     MSI   \n",
       "4  HP 15S-FQ5085NS Intel Core i5-1235U/16GB/512GB...    New      HP   \n",
       "\n",
       "        model            cpu  ram  storage storage_type       gpu  screen  \\\n",
       "0  ExpertBook  Intel Core i5    8      512          SSD       NaN    15.6   \n",
       "1          Go  Intel Celeron    8      256          SSD       NaN    15.6   \n",
       "2  ExpertBook  Intel Core i3    8      256          SSD       NaN    15.6   \n",
       "3      Katana  Intel Core i7   16     1000          SSD  RTX 3050    15.6   \n",
       "4         15S  Intel Core i5   16      512          SSD       NaN    15.6   \n",
       "\n",
       "  touch  final_price  \n",
       "0    No      1009.00  \n",
       "1    No       299.00  \n",
       "2    No       789.00  \n",
       "3    No      1199.00  \n",
       "4    No       669.01  "
      ]
     },
     "execution_count": 6,
     "metadata": {},
     "output_type": "execute_result"
    }
   ],
   "source": [
    "df.head()"
   ]
  },
  {
   "cell_type": "code",
   "execution_count": 7,
   "id": "8accf780-ae73-42e2-954b-74782c402ad8",
   "metadata": {},
   "outputs": [
    {
     "data": {
      "text/plain": [
       "<Axes: xlabel='final_price', ylabel='Count'>"
      ]
     },
     "execution_count": 7,
     "metadata": {},
     "output_type": "execute_result"
    },
    {
     "data": {
      "image/png": "[encoded data removed]",
      "text/plain": [
       "<Figure size 640x480 with 1 Axes>"
      ]
     },
     "metadata": {},
     "output_type": "display_data"
    }
   ],
   "source": [
    "sns.histplot(df.final_price)"
   ]
  },
  {
   "cell_type": "code",
   "execution_count": 8,
   "id": "6228c918-6615-43d3-95f2-07a3c43981b3",
   "metadata": {},
   "outputs": [
    {
     "data": {
      "text/plain": [
       "<Axes: xlabel='final_price', ylabel='Count'>"
      ]
     },
     "execution_count": 8,
     "metadata": {},
     "output_type": "execute_result"
    },
    {
     "data": {
      "image/png": "[encoded data removed]",
      "text/plain": [
       "<Figure size 640x480 with 1 Axes>"
      ]
     },
     "metadata": {},
     "output_type": "display_data"
    }
   ],
   "source": [
    "sns.histplot(np.log1p(df.final_price))"
   ]
  },
  {
   "cell_type": "code",
   "execution_count": 9,
   "id": "c3797e1d-aeed-4e74-833e-67aa9d108004",
   "metadata": {},
   "outputs": [],
   "source": [
    "cols=['ram','storage','screen','final_price']\n",
    "data=df[cols]"
   ]
  },
  {
   "cell_type": "code",
   "execution_count": 10,
   "id": "dc1826dc-00dc-44b9-85da-fd10b39e9f6e",
   "metadata": {},
   "outputs": [
    {
     "data": {
      "text/html": [
       "<div>\n",
       "<style scoped>\n",
       "    .dataframe tbody tr th:only-of-type {\n",
       "        vertical-align: middle;\n",
       "    }\n",
       "\n",
       "    .dataframe tbody tr th {\n",
       "        vertical-align: top;\n",
       "    }\n",
       "\n",
       "    .dataframe thead th {\n",
       "        text-align: right;\n",
       "    }\n",
       "</style>\n",
       "<table border=\"1\" class=\"dataframe\">\n",
       "  <thead>\n",
       "    <tr style=\"text-align: right;\">\n",
       "      <th></th>\n",
       "      <th>ram</th>\n",
       "      <th>storage</th>\n",
       "      <th>screen</th>\n",
       "      <th>final_price</th>\n",
       "    </tr>\n",
       "  </thead>\n",
       "  <tbody>\n",
       "    <tr>\n",
       "      <th>0</th>\n",
       "      <td>8</td>\n",
       "      <td>512</td>\n",
       "      <td>15.6</td>\n",
       "      <td>1009.00</td>\n",
       "    </tr>\n",
       "    <tr>\n",
       "      <th>1</th>\n",
       "      <td>8</td>\n",
       "      <td>256</td>\n",
       "      <td>15.6</td>\n",
       "      <td>299.00</td>\n",
       "    </tr>\n",
       "    <tr>\n",
       "      <th>2</th>\n",
       "      <td>8</td>\n",
       "      <td>256</td>\n",
       "      <td>15.6</td>\n",
       "      <td>789.00</td>\n",
       "    </tr>\n",
       "    <tr>\n",
       "      <th>3</th>\n",
       "      <td>16</td>\n",
       "      <td>1000</td>\n",
       "      <td>15.6</td>\n",
       "      <td>1199.00</td>\n",
       "    </tr>\n",
       "    <tr>\n",
       "      <th>4</th>\n",
       "      <td>16</td>\n",
       "      <td>512</td>\n",
       "      <td>15.6</td>\n",
       "      <td>669.01</td>\n",
       "    </tr>\n",
       "    <tr>\n",
       "      <th>...</th>\n",
       "      <td>...</td>\n",
       "      <td>...</td>\n",
       "      <td>...</td>\n",
       "      <td>...</td>\n",
       "    </tr>\n",
       "    <tr>\n",
       "      <th>2155</th>\n",
       "      <td>16</td>\n",
       "      <td>1000</td>\n",
       "      <td>17.3</td>\n",
       "      <td>2699.99</td>\n",
       "    </tr>\n",
       "    <tr>\n",
       "      <th>2156</th>\n",
       "      <td>16</td>\n",
       "      <td>1000</td>\n",
       "      <td>17.3</td>\n",
       "      <td>2899.99</td>\n",
       "    </tr>\n",
       "    <tr>\n",
       "      <th>2157</th>\n",
       "      <td>32</td>\n",
       "      <td>1000</td>\n",
       "      <td>17.3</td>\n",
       "      <td>3399.99</td>\n",
       "    </tr>\n",
       "    <tr>\n",
       "      <th>2158</th>\n",
       "      <td>16</td>\n",
       "      <td>1000</td>\n",
       "      <td>13.4</td>\n",
       "      <td>1899.99</td>\n",
       "    </tr>\n",
       "    <tr>\n",
       "      <th>2159</th>\n",
       "      <td>16</td>\n",
       "      <td>256</td>\n",
       "      <td>13.4</td>\n",
       "      <td>1699.99</td>\n",
       "    </tr>\n",
       "  </tbody>\n",
       "</table>\n",
       "<p>2160 rows × 4 columns</p>\n",
       "</div>"
      ],
      "text/plain": [
       "      ram  storage  screen  final_price\n",
       "0       8      512    15.6      1009.00\n",
       "1       8      256    15.6       299.00\n",
       "2       8      256    15.6       789.00\n",
       "3      16     1000    15.6      1199.00\n",
       "4      16      512    15.6       669.01\n",
       "...   ...      ...     ...          ...\n",
       "2155   16     1000    17.3      2699.99\n",
       "2156   16     1000    17.3      2899.99\n",
       "2157   32     1000    17.3      3399.99\n",
       "2158   16     1000    13.4      1899.99\n",
       "2159   16      256    13.4      1699.99\n",
       "\n",
       "[2160 rows x 4 columns]"
      ]
     },
     "execution_count": 10,
     "metadata": {},
     "output_type": "execute_result"
    }
   ],
   "source": [
    "data"
   ]
  },
  {
   "cell_type": "code",
   "execution_count": 11,
   "id": "bd9d627d-2077-462e-bf19-d475085abca1",
   "metadata": {},
   "outputs": [
    {
     "data": {
      "text/plain": [
       "ram            0\n",
       "storage        0\n",
       "screen         4\n",
       "final_price    0\n",
       "dtype: int64"
      ]
     },
     "execution_count": 11,
     "metadata": {},
     "output_type": "execute_result"
    }
   ],
   "source": [
    "data.isnull().sum()"
   ]
  },
  {
   "cell_type": "markdown",
   "id": "18d791f0-f342-4bb1-adef-770db96aa0df",
   "metadata": {},
   "source": [
    "question 1 = screen"
   ]
  },
  {
   "cell_type": "code",
   "execution_count": 12,
   "id": "39975487-4836-44e1-a7b3-58bc52177687",
   "metadata": {},
   "outputs": [
    {
     "data": {
      "text/plain": [
       "np.float64(16.0)"
      ]
     },
     "execution_count": 12,
     "metadata": {},
     "output_type": "execute_result"
    }
   ],
   "source": [
    "np.median(data['ram'])"
   ]
  },
  {
   "cell_type": "markdown",
   "id": "caaaf538-c0b8-4f3a-8775-4c1993edab5d",
   "metadata": {},
   "source": [
    "question 2=16"
   ]
  },
  {
   "cell_type": "code",
   "execution_count": 13,
   "id": "98d3211e-f1f4-43d1-8031-6d6602a3b30e",
   "metadata": {},
   "outputs": [],
   "source": [
    "idx=np.arange(2160)\n",
    "np.random.seed(42)\n",
    "np.random.shuffle(idx)"
   ]
  },
  {
   "cell_type": "code",
   "execution_count": 14,
   "id": "350a5240-29cb-49b5-8a50-775926c4d192",
   "metadata": {},
   "outputs": [],
   "source": [
    "n=int(len(data))"
   ]
  },
  {
   "cell_type": "code",
   "execution_count": 15,
   "id": "cbfa2fd3-96e1-4074-9ca9-b5804538ea3d",
   "metadata": {},
   "outputs": [],
   "source": [
    "len_val=int(n*0.2)\n",
    "len_test=int(n*0.2)\n",
    "len_train=int(n-len_val-len_test)"
   ]
  },
  {
   "cell_type": "code",
   "execution_count": 16,
   "id": "cdc293d5-723d-4d8d-8ddf-1848e228ab19",
   "metadata": {},
   "outputs": [],
   "source": [
    "X_train=data.iloc[idx[:len_train]]\n",
    "X_val=data.iloc[idx[len_train:len_train+len_val]]\n",
    "X_test=data.iloc[idx[len_train+len_val:]]"
   ]
  },
  {
   "cell_type": "code",
   "execution_count": 17,
   "id": "178b4b60-eaef-45cc-936f-e985e7b302c6",
   "metadata": {},
   "outputs": [],
   "source": [
    "X_train=X_train.reset_index(drop=True)\n",
    "X_val=X_val.reset_index(drop=True)\n",
    "X_test=X_test.reset_index(drop=True)"
   ]
  },
  {
   "cell_type": "code",
   "execution_count": 18,
   "id": "c1083686-f003-49db-9c50-38eed497e7ae",
   "metadata": {},
   "outputs": [],
   "source": [
    "y_train=X_train['final_price']\n",
    "y_val=X_val['final_price']\n",
    "y_test=X_test['final_price']"
   ]
  },
  {
   "cell_type": "code",
   "execution_count": 19,
   "id": "1127f5df-45b5-457d-a13c-f52402753df1",
   "metadata": {},
   "outputs": [],
   "source": [
    "del X_train['final_price']\n",
    "del X_val['final_price']\n",
    "del X_test['final_price']"
   ]
  },
  {
   "cell_type": "code",
   "execution_count": 20,
   "id": "682663ab-b02e-40c6-afcb-b5cf0d05325c",
   "metadata": {},
   "outputs": [],
   "source": [
    "def prepare_X(X):\n",
    "    X=X.copy()\n",
    "    X=X.fillna(0)\n",
    "    ones=np.ones(X.shape[0])\n",
    "    X=np.column_stack([ones, X])\n",
    "    return X"
   ]
  },
  {
   "cell_type": "code",
   "execution_count": 21,
   "id": "a4e499b8-3365-4a50-a87d-d3ee0ddd115f",
   "metadata": {},
   "outputs": [],
   "source": [
    "X_train_prepared = prepare_X(X_train)\n",
    "X_val_prepared = prepare_X(X_val)\n",
    "X_test_prepared = prepare_X(X_test)"
   ]
  },
  {
   "cell_type": "code",
   "execution_count": 22,
   "id": "631ace49-5d60-48fb-844f-b1b97df7ea2d",
   "metadata": {},
   "outputs": [],
   "source": [
    "def train_linear_regression(X,y,r):\n",
    "    XTX=(X.T).dot(X)\n",
    "    reg=r*np.eye(XTX.shape[0])\n",
    "    XTX=XTX+reg\n",
    "    w=(np.linalg.inv(XTX).dot(X.T)).dot(y)\n",
    "    return w"
   ]
  },
  {
   "cell_type": "code",
   "execution_count": 23,
   "id": "3a0ebc04-81ed-4fff-9d39-63310e8a4606",
   "metadata": {},
   "outputs": [],
   "source": [
    "w=train_linear_regression(X_train_prepared,np.log1p(y_train),0)"
   ]
  },
  {
   "cell_type": "code",
   "execution_count": 24,
   "id": "db949422-f6f2-4106-adf1-5cf3e524ee7d",
   "metadata": {},
   "outputs": [],
   "source": [
    "y_pred=X_val_prepared.dot(w)"
   ]
  },
  {
   "cell_type": "code",
   "execution_count": 25,
   "id": "0c6da289-551d-4f1f-900c-f54ad09f2041",
   "metadata": {},
   "outputs": [],
   "source": [
    "def rmse(y,y_pred):\n",
    "    error=y-y_pred\n",
    "    se=error**2\n",
    "    mse=se.mean()\n",
    "    return np.sqrt(mse)"
   ]
  },
  {
   "cell_type": "code",
   "execution_count": 34,
   "id": "9b8cf957-3597-433e-90c6-2c6713d8fdef",
   "metadata": {},
   "outputs": [
    {
     "data": {
      "text/plain": [
       "np.float64(0.42886353154744156)"
      ]
     },
     "execution_count": 34,
     "metadata": {},
     "output_type": "execute_result"
    }
   ],
   "source": [
    "rmse(np.log1p(y_val),y_pred)"
   ]
  },
  {
   "cell_type": "markdown",
   "id": "49bca6e7-abc6-41e4-992d-d8b82dc48d4a",
   "metadata": {},
   "source": [
    " fillna(0) is better"
   ]
  },
  {
   "cell_type": "code",
   "execution_count": 27,
   "id": "669c640d-9909-42d6-8311-ae58376f0a64",
   "metadata": {},
   "outputs": [],
   "source": [
    "def prepare_X_mean_method(X):\n",
    "    X=X.copy()\n",
    "    X=X.fillna(X['screen'].mean())\n",
    "    ones=np.ones(X.shape[0])\n",
    "    X=np.column_stack([ones, X])\n",
    "    return X"
   ]
  },
  {
   "cell_type": "code",
   "execution_count": 28,
   "id": "4c68d7ec-b79c-41aa-bae2-ab78d4e9312d",
   "metadata": {},
   "outputs": [],
   "source": [
    "X_train_prepared1 = prepare_X_mean_method(X_train)\n",
    "X_val_prepared1 = prepare_X_mean_method(X_val)\n",
    "X_test_prepared1 = prepare_X_mean_method(X_test)"
   ]
  },
  {
   "cell_type": "code",
   "execution_count": 29,
   "id": "9d7476ae-f046-4eeb-87c9-d64b4ce6b7a4",
   "metadata": {},
   "outputs": [],
   "source": [
    "w1=train_linear_regression(X_train_prepared1,np.log1p(y_train),0)"
   ]
  },
  {
   "cell_type": "code",
   "execution_count": 30,
   "id": "6609f750-475c-46b1-943b-2641b8b20ea7",
   "metadata": {},
   "outputs": [],
   "source": [
    "y_pred1=X_val_prepared1.dot(w1)"
   ]
  },
  {
   "cell_type": "code",
   "execution_count": 31,
   "id": "d00e7f6b-2801-4be2-bc5f-99a6e32694df",
   "metadata": {},
   "outputs": [
    {
     "data": {
      "text/plain": [
       "np.float64(0.43117372937296844)"
      ]
     },
     "execution_count": 31,
     "metadata": {},
     "output_type": "execute_result"
    }
   ],
   "source": [
    "rmse(np.log1p(y_val),y_pred1)"
   ]
  },
  {
   "cell_type": "code",
   "execution_count": 41,
   "id": "6a58285d-5413-495b-8de8-8a916cb9e699",
   "metadata": {},
   "outputs": [
    {
     "name": "stdout",
     "output_type": "stream",
     "text": [
      "     0 0.42886353154744156\n",
      "  0.01 0.4288516360534089\n",
      "   0.1 0.4287756009707645\n",
      "     1 0.4305932989743414\n",
      "     5 0.4632095257580651\n",
      "    10 0.507565776923692\n",
      "   100 0.6735026061725821\n"
     ]
    }
   ],
   "source": [
    "for r in [0, 0.01, 0.1, 1, 5, 10, 100]:\n",
    "    w=train_linear_regression(X_train_prepared,np.log1p(y_train),r)\n",
    "    y_pred=X_val_prepared.dot(w)\n",
    "    print('%6s' %r, rmse(np.log1p(y_val), y_pred))"
   ]
  },
  {
   "cell_type": "markdown",
   "id": "9206239a-95ec-4b2d-b883-14bf256ab8a2",
   "metadata": {},
   "source": [
    "r=0.1=> rmse = 0.4287756009707645 "
   ]
  },
  {
   "cell_type": "code",
   "execution_count": 63,
   "id": "cb02fc9d-65f5-4343-b2e7-988a1564d5c1",
   "metadata": {},
   "outputs": [
    {
     "name": "stdout",
     "output_type": "stream",
     "text": [
      "     0 892.1458337583954\n",
      "     1 2518.905310163822\n",
      "     2 2530.8284381118888\n",
      "     3 963.5704734522069\n",
      "     4 869.1699396716925\n",
      "     5 956.675789718476\n",
      "     6 2515.84015040416\n",
      "     7 914.7889864248299\n",
      "     8 834.0084017860748\n",
      "     9 716.9941263995555\n"
     ]
    }
   ],
   "source": [
    "rmse_list = []\n",
    "for i in [0, 1, 2, 3, 4, 5, 6, 7, 8, 9]:\n",
    "    idx = np.arange(2160)\n",
    "    np.random.seed(i)\n",
    "    np.random.shuffle(idx)\n",
    "    features=['ram','storage','screen','final_price']\n",
    "    raw=df[features]\n",
    "    raw=raw.fillna(0)\n",
    "    raw_train=raw.iloc[idx[:len_train]]\n",
    "    raw_val=raw.iloc[idx[len_train:len_train+len_val]]\n",
    "    raw_test=raw.iloc[idx[len_train+len_val:]]\n",
    "    y_raw_train=np.log1p(raw_train['final_price'])\n",
    "    y_raw_val=np.log1p(raw_val['final_price'])\n",
    "    y_raw_test=np.log1p(raw_test['final_price'])\n",
    "    del raw_train['final_price']\n",
    "    del raw_val['final_price']\n",
    "    del raw_test['final_price']\n",
    "    w=train_linear_regression(prepare_X(raw_train),y_raw_train,0)\n",
    "    y_pred=prepare_X(raw_val).dot(w)\n",
    "    rmse_value = rmse(np.expm1(y_raw_val), np.expm1(y_pred)) \n",
    "    rmse_list.append(rmse_value)\n",
    "    print('%6i' %i, rmse(np.expm1(y_raw_val), np.expm1(y_pred)))"
   ]
  },
  {
   "cell_type": "code",
   "execution_count": 64,
   "id": "6a9ff70e-d757-4fef-87f2-7c67146873a5",
   "metadata": {},
   "outputs": [
    {
     "data": {
      "text/plain": [
       "[np.float64(892.1458337583954),\n",
       " np.float64(2518.905310163822),\n",
       " np.float64(2530.8284381118888),\n",
       " np.float64(963.5704734522069),\n",
       " np.float64(869.1699396716925),\n",
       " np.float64(956.675789718476),\n",
       " np.float64(2515.84015040416),\n",
       " np.float64(914.7889864248299),\n",
       " np.float64(834.0084017860748),\n",
       " np.float64(716.9941263995555)]"
      ]
     },
     "execution_count": 64,
     "metadata": {},
     "output_type": "execute_result"
    }
   ],
   "source": [
    "rmse_list"
   ]
  },
  {
   "cell_type": "code",
   "execution_count": 68,
   "id": "122f8f59-b616-4f8f-bed1-50db61558448",
   "metadata": {},
   "outputs": [
    {
     "data": {
      "text/plain": [
       "np.float64(756.07915990354)"
      ]
     },
     "execution_count": 68,
     "metadata": {},
     "output_type": "execute_result"
    }
   ],
   "source": [
    "rmse_list=np.array(rmse_list)\n",
    "rmse_list.std()"
   ]
  },
  {
   "cell_type": "code",
   "execution_count": 70,
   "id": "207a42c5-d9d8-4b14-937e-9a5c2b56ecea",
   "metadata": {},
   "outputs": [
    {
     "data": {
      "text/plain": [
       "np.float64(890.588808736886)"
      ]
     },
     "execution_count": 70,
     "metadata": {},
     "output_type": "execute_result"
    }
   ],
   "source": [
    "idx = np.arange(2160)\n",
    "np.random.seed(9)\n",
    "np.random.shuffle(idx)\n",
    "\n",
    "features=['ram','storage','screen','final_price']\n",
    "raw1=df[features]\n",
    "raw1=raw1.fillna(0)\n",
    "\n",
    "raw1_train=raw.iloc[idx[:len_train+len_val]]\n",
    "raw1_test=raw.iloc[idx[len_train+len_val:]]\n",
    "\n",
    "y_raw1_train=np.log1p(raw1_train['final_price'])\n",
    "y_raw1_test=np.log1p(raw1_test['final_price'])\n",
    "\n",
    "del raw1_train['final_price']\n",
    "del raw1_test['final_price']\n",
    "\n",
    "w=train_linear_regression(prepare_X(raw1_train),y_raw1_train,0.001)\n",
    "y_pred=prepare_X(raw1_test).dot(w)\n",
    "\n",
    "rmse(np.expm1(y_raw1_test),np.expm1(y_pred))"
   ]
  },
  {
   "cell_type": "code",
   "execution_count": null,
   "id": "e4a6528b-e1ae-47e3-ac7b-1c8e8bfa5aad",
   "metadata": {},
   "outputs": [],
   "source": []
  }
 ],
 "metadata": {
  "kernelspec": {
   "display_name": "Python 3 (ipykernel)",
   "language": "python",
   "name": "python3"
  },
  "language_info": {
   "codemirror_mode": {
    "name": "ipython",
    "version": 3
   },
   "file_extension": ".py",
   "mimetype": "text/x-python",
   "name": "python",
   "nbconvert_exporter": "python",
   "pygments_lexer": "ipython3",
   "version": "3.12.1"
  }
 },
 "nbformat": 4,
 "nbformat_minor": 5
}
